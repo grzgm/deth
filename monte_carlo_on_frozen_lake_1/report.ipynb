{
 "cells": [
  {
   "cell_type": "markdown",
   "source": [
    "# Constant-alpha Monte Carlo on Frozen Lake 1\n",
    "Grzegorz Malisz\n",
    "Student Number: 4852370\n",
    "[GitHub Repository](https://github.com/grzgm/deth)"
   ],
   "metadata": {
    "collapsed": false
   }
  },
  {
   "cell_type": "markdown",
   "source": [
    "## Exploration mechanism and the learning mechanism of Constant-alpha Monte Carlo\n",
    "\n",
    "The exploration mechanism is dependent on the $0 < \\epsilon \\leq 1$ value, which is an exploration rate and the greedy policy $\\pi$, which takes the $\\underset{a}{\\max} q(s, a)$. $\\epsilon$ is determining the probability of making random action that is used to enhance policy. After each episode the $q(s,a)$ is updated by the formula $q(s_{t}^{m},a_{t}^{m}) \\gets q(s_{t}^{m},a_{t}^{m})+\\alpha(G_{t}^{m}-q(s_{t}^{m},a_{t}^{m}))$, $m$ is a sample number, $t$ is the step in the sample, which is basically $q(s_{t}^{m},a_{t}^{m})$ with added difference of the discounted return $G_{t}^{m}$ for the $s_{t}^{m}$ and $a_{t}^{m}$ with itself multiplied by constant $\\alpha$. This serves as learning mechanism as it allows to estimate true value of the $q(s, a)$."
   ],
   "metadata": {
    "collapsed": false
   }
  },
  {
   "cell_type": "markdown",
   "source": [
    "## Performance with the is_slippery=True/False\n",
    "\n",
    "With the `is_slippery=False` agent learning process is more stable, it is transitioning from negative values to mostly positive. Changing to `is_slippery=True` makes agent receive much more negative rewards throughout whole process. It shouldn't be a surprise as the `is_slippery=True` adds the stochastic part to the learning process, where agent is no longer in the deterministic environment, and he can randomly receive `-1` reward. The `-1` reward also influences the $q(s, a)$ values, as agent is receiving more `-1` rewards then with `is_slippery=False` enabled."
   ],
   "metadata": {
    "collapsed": false
   }
  },
  {
   "cell_type": "markdown",
   "source": [
    "## Range of values Total reward can get with is_slippery=False and frequent_rewards=True\n",
    "From the code provided I understand that is_slippery and frequent_rewards are tied closely, and because of this part of code:\n",
    "```python\n",
    "if frequent_rewards:\n",
    "    if terminated and reward == 0: # agent fall in the hole!\n",
    "        reward = reward - 1\n",
    "    reward = reward + cost_of_living\n",
    "```\n",
    "if the frequent_rewards=False the is_slippery does not have any effect. Different extreme values are obtained by different values of is_slippery and frequent_rewards are between: `1` and `-2` for is_slippery=False and frequent_rewards=True and `0.5` and `-2` for is_slippery=True and frequent_rewards=True. This difference is because frequent_rewards=True enables also cost of living, that lowers final reward."
   ],
   "metadata": {
    "collapsed": false
   }
  },
  {
   "cell_type": "markdown",
   "source": [
    "## Main Question\n",
    "### $\\epsilon$ $\\alpha$ $\\gamma$"
   ],
   "metadata": {
    "collapsed": false
   }
  },
  {
   "cell_type": "markdown",
   "source": [],
   "metadata": {
    "collapsed": false
   }
  }
 ],
 "metadata": {
  "kernelspec": {
   "display_name": "Python 3",
   "language": "python",
   "name": "python3"
  },
  "language_info": {
   "codemirror_mode": {
    "name": "ipython",
    "version": 2
   },
   "file_extension": ".py",
   "mimetype": "text/x-python",
   "name": "python",
   "nbconvert_exporter": "python",
   "pygments_lexer": "ipython2",
   "version": "2.7.6"
  }
 },
 "nbformat": 4,
 "nbformat_minor": 0
}
