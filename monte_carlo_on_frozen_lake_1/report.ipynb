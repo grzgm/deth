{
 "cells": [
  {
   "cell_type": "markdown",
   "source": [
    "# Constant-alpha Monte Carlo on Frozen Lake 1\n",
    "Grzegorz Malisz\n",
    "Student Number: 4852370\n",
    "[GitHub Repository](https://github.com/grzgm/deth)"
   ],
   "metadata": {
    "collapsed": false
   }
  },
  {
   "cell_type": "markdown",
   "source": [
    "## Exploration mechanism and the learning mechanism of Constant-alpha Monte Carlo\n",
    "\n",
    "The exploration mechanism is dependent on the $0 < \\epsilon \\leq 1$ value, which is an exploration rate and the greedy policy $\\pi$, which takes the $\\underset{a}{\\max} q(s, a)$. $\\epsilon$ is determining the probability of making random action that is used to enhance policy. After each episode the $q(s,a)$ is updated by the formula $q(s_{t}^{m},a_{t}^{m}) \\gets q(s_{t}^{m},a_{t}^{m})+\\alpha(G_{t}^{m}-q(s_{t}^{m},a_{t}^{m}))$, $m$ is a sample number, $t$ is the step in the sample, which is basically $q(s_{t}^{m},a_{t}^{m})$ with added difference of the discounted return $G_{t}^{m}$ for the $s_{t}^{m}$ and $a_{t}^{m}$ with itself multiplied by constant $\\alpha$. This serves as learning mechanism as it allows to estimate true value of the $q(s, a)$."
   ],
   "metadata": {
    "collapsed": false
   }
  },
  {
   "cell_type": "markdown",
   "source": [],
   "metadata": {
    "collapsed": false
   }
  }
 ],
 "metadata": {
  "kernelspec": {
   "display_name": "Python 3",
   "language": "python",
   "name": "python3"
  },
  "language_info": {
   "codemirror_mode": {
    "name": "ipython",
    "version": 2
   },
   "file_extension": ".py",
   "mimetype": "text/x-python",
   "name": "python",
   "nbconvert_exporter": "python",
   "pygments_lexer": "ipython2",
   "version": "2.7.6"
  }
 },
 "nbformat": 4,
 "nbformat_minor": 0
}
